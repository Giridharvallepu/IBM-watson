{
    "nbformat_minor": 1, 
    "cells": [
        {
            "source": "### Import the JSON File with Industry Lab Sensor Data", 
            "cell_type": "markdown", 
            "metadata": {}
        }, 
        {
            "execution_count": 1, 
            "cell_type": "code", 
            "metadata": {}, 
            "outputs": [
                {
                    "execution_count": 1, 
                    "metadata": {}, 
                    "data": {
                        "text/html": "<div>\n<style scoped>\n    .dataframe tbody tr th:only-of-type {\n        vertical-align: middle;\n    }\n\n    .dataframe tbody tr th {\n        vertical-align: top;\n    }\n\n    .dataframe thead th {\n        text-align: right;\n    }\n</style>\n<table border=\"1\" class=\"dataframe\">\n  <thead>\n    <tr style=\"text-align: right;\">\n      <th></th>\n      <th>itemname</th>\n      <th>sensorname</th>\n      <th>time</th>\n      <th>value</th>\n    </tr>\n  </thead>\n  <tbody>\n    <tr>\n      <th>0</th>\n      <td>52760_5_temperature_value</td>\n      <td>item0001</td>\n      <td>2018-02-19T07:05:00.165Z</td>\n      <td>20.5</td>\n    </tr>\n    <tr>\n      <th>1</th>\n      <td>47406_3_temperature_value</td>\n      <td>item0002</td>\n      <td>2018-02-19T07:05:00.240Z</td>\n      <td>20.61</td>\n    </tr>\n    <tr>\n      <th>2</th>\n      <td>452B5_3_temperature_value</td>\n      <td>item0003</td>\n      <td>2018-02-19T07:05:00.316Z</td>\n      <td>19.89</td>\n    </tr>\n    <tr>\n      <th>3</th>\n      <td>452F9_3_temperature_value</td>\n      <td>item0004</td>\n      <td>2018-02-19T07:05:00.388Z</td>\n      <td>19.7</td>\n    </tr>\n    <tr>\n      <th>4</th>\n      <td>4521C_3_temperature_value</td>\n      <td>item0005</td>\n      <td>2018-02-19T07:05:00.460Z</td>\n      <td>18.89</td>\n    </tr>\n  </tbody>\n</table>\n</div>", 
                        "text/plain": "                    itemname sensorname                      time  value\n0  52760_5_temperature_value   item0001  2018-02-19T07:05:00.165Z   20.5\n1  47406_3_temperature_value   item0002  2018-02-19T07:05:00.240Z  20.61\n2  452B5_3_temperature_value   item0003  2018-02-19T07:05:00.316Z  19.89\n3  452F9_3_temperature_value   item0004  2018-02-19T07:05:00.388Z   19.7\n4  4521C_3_temperature_value   item0005  2018-02-19T07:05:00.460Z  18.89"
                    }, 
                    "output_type": "execute_result"
                }
            ], 
            "source": "# The code was removed by Watson Studio for sharing."
        }, 
        {
            "source": "### Check the Structure of the Data Frame", 
            "cell_type": "markdown", 
            "metadata": {}
        }, 
        {
            "execution_count": 2, 
            "cell_type": "code", 
            "metadata": {}, 
            "outputs": [], 
            "source": "df = df_data_1"
        }, 
        {
            "execution_count": 3, 
            "cell_type": "code", 
            "metadata": {}, 
            "outputs": [
                {
                    "execution_count": 3, 
                    "metadata": {}, 
                    "data": {
                        "text/html": "<div>\n<style scoped>\n    .dataframe tbody tr th:only-of-type {\n        vertical-align: middle;\n    }\n\n    .dataframe tbody tr th {\n        vertical-align: top;\n    }\n\n    .dataframe thead th {\n        text-align: right;\n    }\n</style>\n<table border=\"1\" class=\"dataframe\">\n  <thead>\n    <tr style=\"text-align: right;\">\n      <th></th>\n      <th>itemname</th>\n      <th>sensorname</th>\n      <th>time</th>\n      <th>value</th>\n    </tr>\n  </thead>\n  <tbody>\n    <tr>\n      <th>0</th>\n      <td>52760_5_temperature_value</td>\n      <td>item0001</td>\n      <td>2018-02-19T07:05:00.165Z</td>\n      <td>20.5</td>\n    </tr>\n    <tr>\n      <th>1</th>\n      <td>47406_3_temperature_value</td>\n      <td>item0002</td>\n      <td>2018-02-19T07:05:00.240Z</td>\n      <td>20.61</td>\n    </tr>\n    <tr>\n      <th>2</th>\n      <td>452B5_3_temperature_value</td>\n      <td>item0003</td>\n      <td>2018-02-19T07:05:00.316Z</td>\n      <td>19.89</td>\n    </tr>\n    <tr>\n      <th>3</th>\n      <td>452F9_3_temperature_value</td>\n      <td>item0004</td>\n      <td>2018-02-19T07:05:00.388Z</td>\n      <td>19.7</td>\n    </tr>\n    <tr>\n      <th>4</th>\n      <td>4521C_3_temperature_value</td>\n      <td>item0005</td>\n      <td>2018-02-19T07:05:00.460Z</td>\n      <td>18.89</td>\n    </tr>\n    <tr>\n      <th>5</th>\n      <td>51A51_5_temperature_value</td>\n      <td>item0006</td>\n      <td>2018-02-19T07:05:00.534Z</td>\n      <td>21.812</td>\n    </tr>\n    <tr>\n      <th>6</th>\n      <td>512F5_5_temperature_value</td>\n      <td>item0007</td>\n      <td>2018-02-19T07:05:00.607Z</td>\n      <td>21</td>\n    </tr>\n    <tr>\n      <th>7</th>\n      <td>45974_3_temperature_value</td>\n      <td>item0008</td>\n      <td>2018-02-19T07:05:00.687Z</td>\n      <td>21.06</td>\n    </tr>\n    <tr>\n      <th>8</th>\n      <td>52686_5_temperature_value</td>\n      <td>item0009</td>\n      <td>2018-02-19T07:05:00.760Z</td>\n      <td>21</td>\n    </tr>\n    <tr>\n      <th>9</th>\n      <td>45152_3_temperature_value</td>\n      <td>item0010</td>\n      <td>2018-02-19T07:05:00.839Z</td>\n      <td>20.2</td>\n    </tr>\n  </tbody>\n</table>\n</div>", 
                        "text/plain": "                    itemname sensorname                      time   value\n0  52760_5_temperature_value   item0001  2018-02-19T07:05:00.165Z    20.5\n1  47406_3_temperature_value   item0002  2018-02-19T07:05:00.240Z   20.61\n2  452B5_3_temperature_value   item0003  2018-02-19T07:05:00.316Z   19.89\n3  452F9_3_temperature_value   item0004  2018-02-19T07:05:00.388Z    19.7\n4  4521C_3_temperature_value   item0005  2018-02-19T07:05:00.460Z   18.89\n5  51A51_5_temperature_value   item0006  2018-02-19T07:05:00.534Z  21.812\n6  512F5_5_temperature_value   item0007  2018-02-19T07:05:00.607Z      21\n7  45974_3_temperature_value   item0008  2018-02-19T07:05:00.687Z   21.06\n8  52686_5_temperature_value   item0009  2018-02-19T07:05:00.760Z      21\n9  45152_3_temperature_value   item0010  2018-02-19T07:05:00.839Z    20.2"
                    }, 
                    "output_type": "execute_result"
                }
            ], 
            "source": "df.head(10)"
        }, 
        {
            "execution_count": 4, 
            "cell_type": "code", 
            "metadata": {}, 
            "outputs": [
                {
                    "execution_count": 4, 
                    "metadata": {}, 
                    "data": {
                        "text/html": "<div>\n<style scoped>\n    .dataframe tbody tr th:only-of-type {\n        vertical-align: middle;\n    }\n\n    .dataframe tbody tr th {\n        vertical-align: top;\n    }\n\n    .dataframe thead th {\n        text-align: right;\n    }\n</style>\n<table border=\"1\" class=\"dataframe\">\n  <thead>\n    <tr style=\"text-align: right;\">\n      <th></th>\n      <th>itemname</th>\n      <th>sensorname</th>\n      <th>time</th>\n      <th>value</th>\n    </tr>\n  </thead>\n  <tbody>\n    <tr>\n      <th>760514</th>\n      <td>476CA_4_carbonDioxide_value</td>\n      <td>item0131</td>\n      <td>2018-04-26T14:00:03.218Z</td>\n      <td>798</td>\n    </tr>\n    <tr>\n      <th>760515</th>\n      <td>46CF4_4_carbonDioxide_value</td>\n      <td>item0104</td>\n      <td>2018-04-26T14:00:03.259Z</td>\n      <td>543</td>\n    </tr>\n    <tr>\n      <th>760516</th>\n      <td>45974_4_carbonDioxide_value</td>\n      <td>item0122</td>\n      <td>2018-04-26T14:00:03.280Z</td>\n      <td>744</td>\n    </tr>\n    <tr>\n      <th>760517</th>\n      <td>4692E_4_carbonDioxide_value</td>\n      <td>item0114</td>\n      <td>2018-04-26T14:00:03.301Z</td>\n      <td>795</td>\n    </tr>\n    <tr>\n      <th>760518</th>\n      <td>South_Workarea_3_Air</td>\n      <td>item0157</td>\n      <td>2018-04-26T14:00:03.321Z</td>\n      <td>500</td>\n    </tr>\n    <tr>\n      <th>760519</th>\n      <td>47406_4_carbonDioxide_value</td>\n      <td>item0126</td>\n      <td>2018-04-26T14:00:03.341Z</td>\n      <td>641</td>\n    </tr>\n    <tr>\n      <th>760520</th>\n      <td>47888_4_carbonDioxide_value</td>\n      <td>item0083</td>\n      <td>2018-04-26T14:00:03.362Z</td>\n      <td>896</td>\n    </tr>\n    <tr>\n      <th>760521</th>\n      <td>45C72_4_carbonDioxide_value</td>\n      <td>item0109</td>\n      <td>2018-04-26T14:00:03.383Z</td>\n      <td>730</td>\n    </tr>\n    <tr>\n      <th>760522</th>\n      <td>46C8A_4_carbonDioxide_value</td>\n      <td>item0072</td>\n      <td>2018-04-26T14:00:03.403Z</td>\n      <td>565</td>\n    </tr>\n    <tr>\n      <th>760523</th>\n      <td>Loisach_Occupancy</td>\n      <td>item0146</td>\n      <td>2018-04-26T14:00:52.918Z</td>\n      <td>occupied</td>\n    </tr>\n  </tbody>\n</table>\n</div>", 
                        "text/plain": "                           itemname sensorname                      time  \\\n760514  476CA_4_carbonDioxide_value   item0131  2018-04-26T14:00:03.218Z   \n760515  46CF4_4_carbonDioxide_value   item0104  2018-04-26T14:00:03.259Z   \n760516  45974_4_carbonDioxide_value   item0122  2018-04-26T14:00:03.280Z   \n760517  4692E_4_carbonDioxide_value   item0114  2018-04-26T14:00:03.301Z   \n760518         South_Workarea_3_Air   item0157  2018-04-26T14:00:03.321Z   \n760519  47406_4_carbonDioxide_value   item0126  2018-04-26T14:00:03.341Z   \n760520  47888_4_carbonDioxide_value   item0083  2018-04-26T14:00:03.362Z   \n760521  45C72_4_carbonDioxide_value   item0109  2018-04-26T14:00:03.383Z   \n760522  46C8A_4_carbonDioxide_value   item0072  2018-04-26T14:00:03.403Z   \n760523            Loisach_Occupancy   item0146  2018-04-26T14:00:52.918Z   \n\n           value  \n760514       798  \n760515       543  \n760516       744  \n760517       795  \n760518       500  \n760519       641  \n760520       896  \n760521       730  \n760522       565  \n760523  occupied  "
                    }, 
                    "output_type": "execute_result"
                }
            ], 
            "source": "df.tail(10)"
        }, 
        {
            "execution_count": 5, 
            "cell_type": "code", 
            "metadata": {
                "scrolled": false
            }, 
            "outputs": [
                {
                    "execution_count": 5, 
                    "metadata": {}, 
                    "data": {
                        "text/plain": "array(['52760_5_temperature_value', '47406_3_temperature_value',\n       '452B5_3_temperature_value', '452F9_3_temperature_value',\n       '4521C_3_temperature_value', '51A51_5_temperature_value',\n       '512F5_5_temperature_value', '45974_3_temperature_value',\n       '52686_5_temperature_value', '45152_3_temperature_value',\n       '51BEB_5_temperature_value', '45A95_3_temperature_value',\n       '516AF_5_temperature_value', '51711_5_temperature_value',\n       '51B62_5_temperature_value', '476CA_3_temperature_value',\n       '51174_5_temperature_value', '511D3_5_temperature_value',\n       '45A94_3_temperature_value', '5161B_5_temperature_value',\n       '454CA_3_temperature_value', '510FD_5_temperature_value',\n       '4562F_3_temperature_value', '51A63_5_temperature_value',\n       '51B5C_5_temperature_value', '47888_3_temperature_value',\n       '451E8_3_temperature_value', '5131F_5_temperature_value',\n       '51C0A_5_temperature_value', '46C8A_3_temperature_value',\n       '52259_5_temperature_value', '4548D_3_temperature_value',\n       '451B7_3_temperature_value', '51B6F_5_temperature_value',\n       '5140A_5_temperature_value', '52444_5_temperature_value',\n       '51B88_5_temperature_value', '515B5_5_temperature_value',\n       '52774_5_temperature_value', '45C72_3_temperature_value',\n       '5130A_5_temperature_value', '51B0E_5_temperature_value',\n       '51166_5_temperature_value', '5257C_5_temperature_value',\n       '45534_3_temperature_value', '4692E_3_temperature_value',\n       '51183_5_temperature_value', '522AE_5_temperature_value',\n       '455DB_3_temperature_value', '4560C_3_temperature_value',\n       '45731_3_temperature_value', '5245A_5_temperature_value',\n       '450EC_3_temperature_value', '51B56_5_temperature_value',\n       '452FC_3_temperature_value', '46CF4_3_temperature_value',\n       '52443_5_temperature_value', '45735_3_temperature_value',\n       '510E0_5_temperature_value', '52268_5_temperature_value',\n       '52439_5_temperature_value', '45590_3_temperature_value',\n       '45140_3_temperature_value', '455D9_3_temperature_value',\n       '456C6_3_temperature_value', '4674C_3_temperature_value',\n       '45A95_4_carbonDioxide_value', '4674C_4_carbonDioxide_value',\n       '476CA_4_carbonDioxide_value', '46CF4_4_carbonDioxide_value',\n       '45974_4_carbonDioxide_value', '4692E_4_carbonDioxide_value',\n       '47406_4_carbonDioxide_value', '47888_4_carbonDioxide_value',\n       '46C8A_4_carbonDioxide_value', '45C72_4_carbonDioxide_value',\n       '46C8A_3_humidity_value', '47406_3_humidity_value',\n       '45152_5_illuminance_value', '45A95_3_humidity_value',\n       '451E8_3_humidity_value', '45A94_6_pressure_value',\n       '45534_3_humidity_value', '450EC_5_illuminance_value',\n       '4521C_3_humidity_value', '45735_3_humidity_value',\n       '4560C_3_humidity_value', '454CA_5_illuminance_value',\n       '451B7_5_illuminance_value', '454CA_3_humidity_value',\n       '451E8_5_illuminance_value', '45140_3_humidity_value',\n       '46CF4_3_humidity_value', '45974_6_pressure_value',\n       '452B5_3_humidity_value', '47888_3_humidity_value',\n       '4674C_6_pressure_value', '455DB_3_humidity_value',\n       '47888_6_pressure_value', '45731_5_illuminance_value',\n       '4562F_3_humidity_value', '476CA_6_pressure_value',\n       '45731_3_humidity_value', '4674C_3_humidity_value',\n       '45590_5_illuminance_value', '450EC_3_humidity_value',\n       '476CA_3_humidity_value', '45A94_3_humidity_value',\n       '45A95_6_pressure_value', '45590_3_humidity_value',\n       '47406_6_pressure_value', '46CF4_6_pressure_value',\n       '4548D_3_humidity_value', '45974_3_humidity_value',\n       '456C6_3_humidity_value', '455D9_3_humidity_value',\n       '46C8A_6_pressure_value', '4692E_3_humidity_value',\n       '45152_3_humidity_value', '45C72_3_humidity_value',\n       '4548D_5_illuminance_value', '4562F_5_illuminance_value',\n       '455DB_5_illuminance_value', '451B7_3_humidity_value',\n       '45C72_6_pressure_value', '45534_5_illuminance_value',\n       '45140_5_illuminance_value', '452F9_5_illuminance_value',\n       '4521C_5_illuminance_value', '452FC_5_illuminance_value',\n       '452FC_3_humidity_value', '452B5_5_illuminance_value',\n       '452F9_3_humidity_value', '4692E_6_pressure_value',\n       '456C6_5_illuminance_value', '455D9_5_illuminance_value',\n       '45735_5_illuminance_value', 'Wuerm_Occupancy',\n       'Mangfall_Occupancy', 'Think_Box_Occupancy', 'Loisach_Occupancy',\n       'Port_Of_Rotterdam_Occupancy', 'Amper_Occupancy',\n       'Shinano_Occupancy', 'Isar_Occupancy', '4560C_5_illuminance_value',\n       'meetingroom_door_contact_value', 'office_door_contact_value',\n       'DEV_WASP_AGR_MESHLIUM_DEV_value', 'fridge_door_contact_value',\n       'smarthome_door_contact_value', 'liquidSensor_liquidDetected_value',\n       '46CE5_3_humidity_value', '46CE5_5_illuminance_value',\n       '46CE5_3_temperature_value', 'South_Workarea_3_Air',\n       'Yangtze_Occupancy', 'Floor23_SmartMeter_Value',\n       'Floor23_SmartMeter_Power', 'EnOceanAgri_relativeHumidity_value',\n       'EnOceanAgri_luminanceIntensity_value', 'Floor23_Curtain_Move',\n       'Floor23_Window_Handle_Status', 'Floor23_Curtain',\n       'ESP8266_600194107B29_IRRIGATOR_WATERLEVEL',\n       'ESP8266_600194107B29_IRRIGATOR_SOIL_MOIS', 'Server_Floor23_Ping',\n       'Server_Floor23_KEVAG_Upload', 'Server_Floor23_KEVAG_Download',\n       'Server_Floor23_KEVAG_Ping', 'Server_Floor23_NetDSign_Upload',\n       'Server_Floor23_NetDSign_Download', 'Server_Floor23_NetDSign_Ping'], dtype=object)"
                    }, 
                    "output_type": "execute_result"
                }
            ], 
            "source": "df.itemname.unique()"
        }, 
        {
            "source": "### Format Yanzi Sensor Data ", 
            "cell_type": "markdown", 
            "metadata": {}
        }, 
        {
            "execution_count": 6, 
            "cell_type": "code", 
            "metadata": {}, 
            "outputs": [], 
            "source": "df['id'] = df['itemname'].str.split('_').str[0]"
        }, 
        {
            "execution_count": 7, 
            "cell_type": "code", 
            "metadata": {}, 
            "outputs": [], 
            "source": "df['temperature'] = df[df['itemname'].str.contains('temperature')]['value'].astype(float)\ndf['carbonDioxide'] = df[df['itemname'].str.contains('carbonDioxide')]['value'].astype(float)\ndf['humidity'] = df[df['itemname'].str.contains('humidity')]['value'].astype(float)\ndf['illuminance'] = df[df['itemname'].str.contains('illuminance')]['value'].astype(float)\ndf['pressure'] = df[df['itemname'].str.contains('pressure')]['value'].astype(float)\ndf['Occupancy'] = df[df['itemname'].str.contains('Occupancy')]['value']"
        }, 
        {
            "execution_count": 8, 
            "cell_type": "code", 
            "metadata": {}, 
            "outputs": [
                {
                    "execution_count": 8, 
                    "metadata": {}, 
                    "data": {
                        "text/html": "<div>\n<style scoped>\n    .dataframe tbody tr th:only-of-type {\n        vertical-align: middle;\n    }\n\n    .dataframe tbody tr th {\n        vertical-align: top;\n    }\n\n    .dataframe thead th {\n        text-align: right;\n    }\n</style>\n<table border=\"1\" class=\"dataframe\">\n  <thead>\n    <tr style=\"text-align: right;\">\n      <th></th>\n      <th>itemname</th>\n      <th>sensorname</th>\n      <th>time</th>\n      <th>value</th>\n      <th>id</th>\n      <th>temperature</th>\n      <th>carbonDioxide</th>\n      <th>humidity</th>\n      <th>illuminance</th>\n      <th>pressure</th>\n      <th>Occupancy</th>\n    </tr>\n  </thead>\n  <tbody>\n    <tr>\n      <th>0</th>\n      <td>52760_5_temperature_value</td>\n      <td>item0001</td>\n      <td>2018-02-19T07:05:00.165Z</td>\n      <td>20.5</td>\n      <td>52760</td>\n      <td>20.50</td>\n      <td>NaN</td>\n      <td>NaN</td>\n      <td>NaN</td>\n      <td>NaN</td>\n      <td>NaN</td>\n    </tr>\n    <tr>\n      <th>1</th>\n      <td>47406_3_temperature_value</td>\n      <td>item0002</td>\n      <td>2018-02-19T07:05:00.240Z</td>\n      <td>20.61</td>\n      <td>47406</td>\n      <td>20.61</td>\n      <td>NaN</td>\n      <td>NaN</td>\n      <td>NaN</td>\n      <td>NaN</td>\n      <td>NaN</td>\n    </tr>\n    <tr>\n      <th>2</th>\n      <td>452B5_3_temperature_value</td>\n      <td>item0003</td>\n      <td>2018-02-19T07:05:00.316Z</td>\n      <td>19.89</td>\n      <td>452B5</td>\n      <td>19.89</td>\n      <td>NaN</td>\n      <td>NaN</td>\n      <td>NaN</td>\n      <td>NaN</td>\n      <td>NaN</td>\n    </tr>\n    <tr>\n      <th>3</th>\n      <td>452F9_3_temperature_value</td>\n      <td>item0004</td>\n      <td>2018-02-19T07:05:00.388Z</td>\n      <td>19.7</td>\n      <td>452F9</td>\n      <td>19.70</td>\n      <td>NaN</td>\n      <td>NaN</td>\n      <td>NaN</td>\n      <td>NaN</td>\n      <td>NaN</td>\n    </tr>\n    <tr>\n      <th>4</th>\n      <td>4521C_3_temperature_value</td>\n      <td>item0005</td>\n      <td>2018-02-19T07:05:00.460Z</td>\n      <td>18.89</td>\n      <td>4521C</td>\n      <td>18.89</td>\n      <td>NaN</td>\n      <td>NaN</td>\n      <td>NaN</td>\n      <td>NaN</td>\n      <td>NaN</td>\n    </tr>\n  </tbody>\n</table>\n</div>", 
                        "text/plain": "                    itemname sensorname                      time  value  \\\n0  52760_5_temperature_value   item0001  2018-02-19T07:05:00.165Z   20.5   \n1  47406_3_temperature_value   item0002  2018-02-19T07:05:00.240Z  20.61   \n2  452B5_3_temperature_value   item0003  2018-02-19T07:05:00.316Z  19.89   \n3  452F9_3_temperature_value   item0004  2018-02-19T07:05:00.388Z   19.7   \n4  4521C_3_temperature_value   item0005  2018-02-19T07:05:00.460Z  18.89   \n\n      id  temperature  carbonDioxide  humidity  illuminance  pressure  \\\n0  52760        20.50            NaN       NaN          NaN       NaN   \n1  47406        20.61            NaN       NaN          NaN       NaN   \n2  452B5        19.89            NaN       NaN          NaN       NaN   \n3  452F9        19.70            NaN       NaN          NaN       NaN   \n4  4521C        18.89            NaN       NaN          NaN       NaN   \n\n  Occupancy  \n0       NaN  \n1       NaN  \n2       NaN  \n3       NaN  \n4       NaN  "
                    }, 
                    "output_type": "execute_result"
                }
            ], 
            "source": "df.head()"
        }, 
        {
            "execution_count": 9, 
            "cell_type": "code", 
            "metadata": {}, 
            "outputs": [
                {
                    "execution_count": 9, 
                    "metadata": {}, 
                    "data": {
                        "text/html": "<div>\n<style scoped>\n    .dataframe tbody tr th:only-of-type {\n        vertical-align: middle;\n    }\n\n    .dataframe tbody tr th {\n        vertical-align: top;\n    }\n\n    .dataframe thead th {\n        text-align: right;\n    }\n</style>\n<table border=\"1\" class=\"dataframe\">\n  <thead>\n    <tr style=\"text-align: right;\">\n      <th></th>\n      <th>itemname</th>\n      <th>sensorname</th>\n      <th>time</th>\n      <th>value</th>\n      <th>id</th>\n      <th>temperature</th>\n      <th>carbonDioxide</th>\n      <th>humidity</th>\n      <th>illuminance</th>\n      <th>pressure</th>\n      <th>Occupancy</th>\n    </tr>\n  </thead>\n  <tbody>\n    <tr>\n      <th>760519</th>\n      <td>47406_4_carbonDioxide_value</td>\n      <td>item0126</td>\n      <td>2018-04-26T14:00:03.341Z</td>\n      <td>641</td>\n      <td>47406</td>\n      <td>NaN</td>\n      <td>641.0</td>\n      <td>NaN</td>\n      <td>NaN</td>\n      <td>NaN</td>\n      <td>NaN</td>\n    </tr>\n    <tr>\n      <th>760520</th>\n      <td>47888_4_carbonDioxide_value</td>\n      <td>item0083</td>\n      <td>2018-04-26T14:00:03.362Z</td>\n      <td>896</td>\n      <td>47888</td>\n      <td>NaN</td>\n      <td>896.0</td>\n      <td>NaN</td>\n      <td>NaN</td>\n      <td>NaN</td>\n      <td>NaN</td>\n    </tr>\n    <tr>\n      <th>760521</th>\n      <td>45C72_4_carbonDioxide_value</td>\n      <td>item0109</td>\n      <td>2018-04-26T14:00:03.383Z</td>\n      <td>730</td>\n      <td>45C72</td>\n      <td>NaN</td>\n      <td>730.0</td>\n      <td>NaN</td>\n      <td>NaN</td>\n      <td>NaN</td>\n      <td>NaN</td>\n    </tr>\n    <tr>\n      <th>760522</th>\n      <td>46C8A_4_carbonDioxide_value</td>\n      <td>item0072</td>\n      <td>2018-04-26T14:00:03.403Z</td>\n      <td>565</td>\n      <td>46C8A</td>\n      <td>NaN</td>\n      <td>565.0</td>\n      <td>NaN</td>\n      <td>NaN</td>\n      <td>NaN</td>\n      <td>NaN</td>\n    </tr>\n    <tr>\n      <th>760523</th>\n      <td>Loisach_Occupancy</td>\n      <td>item0146</td>\n      <td>2018-04-26T14:00:52.918Z</td>\n      <td>occupied</td>\n      <td>Loisach</td>\n      <td>NaN</td>\n      <td>NaN</td>\n      <td>NaN</td>\n      <td>NaN</td>\n      <td>NaN</td>\n      <td>occupied</td>\n    </tr>\n  </tbody>\n</table>\n</div>", 
                        "text/plain": "                           itemname sensorname                      time  \\\n760519  47406_4_carbonDioxide_value   item0126  2018-04-26T14:00:03.341Z   \n760520  47888_4_carbonDioxide_value   item0083  2018-04-26T14:00:03.362Z   \n760521  45C72_4_carbonDioxide_value   item0109  2018-04-26T14:00:03.383Z   \n760522  46C8A_4_carbonDioxide_value   item0072  2018-04-26T14:00:03.403Z   \n760523            Loisach_Occupancy   item0146  2018-04-26T14:00:52.918Z   \n\n           value       id  temperature  carbonDioxide  humidity  illuminance  \\\n760519       641    47406          NaN          641.0       NaN          NaN   \n760520       896    47888          NaN          896.0       NaN          NaN   \n760521       730    45C72          NaN          730.0       NaN          NaN   \n760522       565    46C8A          NaN          565.0       NaN          NaN   \n760523  occupied  Loisach          NaN            NaN       NaN          NaN   \n\n        pressure Occupancy  \n760519       NaN       NaN  \n760520       NaN       NaN  \n760521       NaN       NaN  \n760522       NaN       NaN  \n760523       NaN  occupied  "
                    }, 
                    "output_type": "execute_result"
                }
            ], 
            "source": "df.tail()"
        }, 
        {
            "execution_count": 10, 
            "cell_type": "code", 
            "metadata": {}, 
            "outputs": [
                {
                    "execution_count": 10, 
                    "metadata": {}, 
                    "data": {
                        "text/html": "<div>\n<style scoped>\n    .dataframe tbody tr th:only-of-type {\n        vertical-align: middle;\n    }\n\n    .dataframe tbody tr th {\n        vertical-align: top;\n    }\n\n    .dataframe thead th {\n        text-align: right;\n    }\n</style>\n<table border=\"1\" class=\"dataframe\">\n  <thead>\n    <tr style=\"text-align: right;\">\n      <th></th>\n      <th>temperature</th>\n      <th>carbonDioxide</th>\n      <th>humidity</th>\n      <th>illuminance</th>\n      <th>pressure</th>\n    </tr>\n  </thead>\n  <tbody>\n    <tr>\n      <th>count</th>\n      <td>342704.000000</td>\n      <td>50509.000000</td>\n      <td>160660.000000</td>\n      <td>102881.000000</td>\n      <td>58900.000000</td>\n    </tr>\n    <tr>\n      <th>mean</th>\n      <td>22.124608</td>\n      <td>531.344414</td>\n      <td>16.940346</td>\n      <td>162.919545</td>\n      <td>943.730369</td>\n    </tr>\n    <tr>\n      <th>std</th>\n      <td>1.815222</td>\n      <td>168.712879</td>\n      <td>5.128360</td>\n      <td>449.858628</td>\n      <td>8.895958</td>\n    </tr>\n    <tr>\n      <th>min</th>\n      <td>12.930000</td>\n      <td>395.000000</td>\n      <td>4.000000</td>\n      <td>0.000000</td>\n      <td>922.680000</td>\n    </tr>\n    <tr>\n      <th>25%</th>\n      <td>21.000000</td>\n      <td>412.000000</td>\n      <td>14.000000</td>\n      <td>0.460000</td>\n      <td>936.760000</td>\n    </tr>\n    <tr>\n      <th>50%</th>\n      <td>22.000000</td>\n      <td>472.000000</td>\n      <td>17.000000</td>\n      <td>14.720000</td>\n      <td>944.010000</td>\n    </tr>\n    <tr>\n      <th>75%</th>\n      <td>23.230000</td>\n      <td>579.000000</td>\n      <td>20.000000</td>\n      <td>162.380000</td>\n      <td>950.040000</td>\n    </tr>\n    <tr>\n      <th>max</th>\n      <td>32.780000</td>\n      <td>2215.000000</td>\n      <td>34.000000</td>\n      <td>15857.580000</td>\n      <td>967.260000</td>\n    </tr>\n  </tbody>\n</table>\n</div>", 
                        "text/plain": "         temperature  carbonDioxide       humidity    illuminance  \\\ncount  342704.000000   50509.000000  160660.000000  102881.000000   \nmean       22.124608     531.344414      16.940346     162.919545   \nstd         1.815222     168.712879       5.128360     449.858628   \nmin        12.930000     395.000000       4.000000       0.000000   \n25%        21.000000     412.000000      14.000000       0.460000   \n50%        22.000000     472.000000      17.000000      14.720000   \n75%        23.230000     579.000000      20.000000     162.380000   \nmax        32.780000    2215.000000      34.000000   15857.580000   \n\n           pressure  \ncount  58900.000000  \nmean     943.730369  \nstd        8.895958  \nmin      922.680000  \n25%      936.760000  \n50%      944.010000  \n75%      950.040000  \nmax      967.260000  "
                    }, 
                    "output_type": "execute_result"
                }
            ], 
            "source": "df.describe()"
        }, 
        {
            "source": "### Visualize Data with Pixidust", 
            "cell_type": "markdown", 
            "metadata": {}
        }, 
        {
            "execution_count": 11, 
            "cell_type": "code", 
            "metadata": {}, 
            "outputs": [
                {
                    "output_type": "stream", 
                    "name": "stdout", 
                    "text": "Pixiedust database opened successfully\nTable VERSION_TRACKER created successfully\nTable METRICS_TRACKER created successfully\n\nShare anonymous install statistics? (opt-out instructions)\n\nPixieDust will record metadata on its environment the next time the package is installed or updated. The data is anonymized and aggregated to help plan for future releases, and records only the following values:\n\n{\n   \"data_sent\": currentDate,\n   \"runtime\": \"python\",\n   \"application_version\": currentPixiedustVersion,\n   \"space_id\": nonIdentifyingUniqueId,\n   \"config\": {\n       \"repository_id\": \"https://github.com/ibm-watson-data-lab/pixiedust\",\n       \"target_runtimes\": [\"Data Science Experience\"],\n       \"event_id\": \"web\",\n       \"event_organizer\": \"dev-journeys\"\n   }\n}\nYou can opt out by calling pixiedust.optOut() in a new cell.\n"
                }, 
                {
                    "output_type": "display_data", 
                    "data": {
                        "text/html": "\n        <div style=\"margin:10px\">\n            <a href=\"https://github.com/ibm-watson-data-lab/pixiedust\" target=\"_new\">\n                <img src=\"https://github.com/ibm-watson-data-lab/pixiedust/raw/master/docs/_static/pd_icon32.png\" style=\"float:left;margin-right:10px\"/>\n            </a>\n            <span>Pixiedust version 1.1.14</span>\n        </div>\n        ", 
                        "text/plain": "<IPython.core.display.HTML object>"
                    }, 
                    "metadata": {}
                }, 
                {
                    "output_type": "stream", 
                    "name": "stdout", 
                    "text": "Pixiedust runtime updated. Please restart kernel\nTable USER_PREFERENCES created successfully\nTable service_connections created successfully\n"
                }, 
                {
                    "output_type": "display_data", 
                    "data": {
                        "text/html": "<div>Warning: You are not running the latest version of PixieDust. Current is 1.1.14, Latest is 1.1.15</div>", 
                        "text/plain": "<IPython.core.display.HTML object>"
                    }, 
                    "metadata": {}
                }, 
                {
                    "output_type": "display_data", 
                    "data": {
                        "text/html": "\n                <div>Please copy and run the following command in a new cell to upgrade: <span style=\"background-color:#ececec;font-family:monospace;padding:0 5px\">!pip install --user --upgrade pixiedust</span></div>\n            ", 
                        "text/plain": "<IPython.core.display.HTML object>"
                    }, 
                    "metadata": {}
                }, 
                {
                    "output_type": "display_data", 
                    "data": {
                        "text/html": "<div>Please restart kernel after upgrading.</div>", 
                        "text/plain": "<IPython.core.display.HTML object>"
                    }, 
                    "metadata": {}
                }
            ], 
            "source": "import pixiedust"
        }, 
        {
            "execution_count": 12, 
            "cell_type": "code", 
            "metadata": {
                "pixiedust": {
                    "displayParams": {
                        "no_margin": "true", 
                        "lineChartType": "subplots", 
                        "title": "Shinano Meeting Room", 
                        "filter": "{\"regex\": \"false\", \"constraint\": \"None\", \"field\": \"id\", \"case_matter\": \"false\", \"value\": \"4674C\"}", 
                        "handlerId": "lineChart", 
                        "valueFields": "temperature", 
                        "rendererId": "matplotlib", 
                        "timeseries": "true", 
                        "keyFields": "time", 
                        "legend": "true"
                    }
                }
            }, 
            "outputs": [
                {
                    "output_type": "display_data", 
                    "data": {
                        "text/html": "<style type=\"text/css\">.pd_warning{display:none;}</style><div class=\"pd_warning\"><em>Hey, there's something awesome here! To see it, open this notebook outside GitHub, in a viewer like Jupyter</em></div>", 
                        "text/plain": "<IPython.core.display.HTML object>"
                    }, 
                    "metadata": {
                        "pixieapp_metadata": null
                    }
                }
            ], 
            "source": "!pip install --user --upgrade pixiedust\ndisplay(df)"
        }, 
        {
            "source": "### Filter on Shinano and Fill Missing Values", 
            "cell_type": "markdown", 
            "metadata": {}
        }, 
        {
            "execution_count": 13, 
            "cell_type": "code", 
            "metadata": {}, 
            "outputs": [], 
            "source": "df_shinano = df[df['id'].isin(['4674C', 'Shinano'])].copy()"
        }, 
        {
            "execution_count": 14, 
            "cell_type": "code", 
            "metadata": {}, 
            "outputs": [], 
            "source": "df_shinano.sort_values(by='time', inplace=True)"
        }, 
        {
            "execution_count": 15, 
            "cell_type": "code", 
            "metadata": {}, 
            "outputs": [], 
            "source": "df_shinano.index = pd.to_datetime(df_shinano.time)"
        }, 
        {
            "execution_count": 16, 
            "cell_type": "code", 
            "metadata": {}, 
            "outputs": [], 
            "source": "df_shinano.fillna(method='ffill', inplace=True)"
        }, 
        {
            "execution_count": 17, 
            "cell_type": "code", 
            "metadata": {}, 
            "outputs": [], 
            "source": "df_shinano.fillna(method='bfill', inplace=True)"
        }, 
        {
            "execution_count": 18, 
            "cell_type": "code", 
            "metadata": {}, 
            "outputs": [
                {
                    "execution_count": 18, 
                    "metadata": {}, 
                    "data": {
                        "text/html": "<div>\n<style scoped>\n    .dataframe tbody tr th:only-of-type {\n        vertical-align: middle;\n    }\n\n    .dataframe tbody tr th {\n        vertical-align: top;\n    }\n\n    .dataframe thead th {\n        text-align: right;\n    }\n</style>\n<table border=\"1\" class=\"dataframe\">\n  <thead>\n    <tr style=\"text-align: right;\">\n      <th></th>\n      <th>itemname</th>\n      <th>sensorname</th>\n      <th>time</th>\n      <th>value</th>\n      <th>id</th>\n      <th>temperature</th>\n      <th>carbonDioxide</th>\n      <th>humidity</th>\n      <th>illuminance</th>\n      <th>pressure</th>\n      <th>Occupancy</th>\n    </tr>\n    <tr>\n      <th>time</th>\n      <th></th>\n      <th></th>\n      <th></th>\n      <th></th>\n      <th></th>\n      <th></th>\n      <th></th>\n      <th></th>\n      <th></th>\n      <th></th>\n      <th></th>\n    </tr>\n  </thead>\n  <tbody>\n    <tr>\n      <th>2018-02-19 07:05:05.008</th>\n      <td>4674C_3_temperature_value</td>\n      <td>item0066</td>\n      <td>2018-02-19T07:05:05.008Z</td>\n      <td>18.5</td>\n      <td>4674C</td>\n      <td>18.50</td>\n      <td>455.0</td>\n      <td>16.0</td>\n      <td>NaN</td>\n      <td>950.51</td>\n      <td>free</td>\n    </tr>\n    <tr>\n      <th>2018-02-19 07:10:00.118</th>\n      <td>4674C_4_carbonDioxide_value</td>\n      <td>item0095</td>\n      <td>2018-02-19T07:10:00.118Z</td>\n      <td>455</td>\n      <td>4674C</td>\n      <td>18.50</td>\n      <td>455.0</td>\n      <td>16.0</td>\n      <td>NaN</td>\n      <td>950.51</td>\n      <td>free</td>\n    </tr>\n    <tr>\n      <th>2018-02-19 07:15:01.061</th>\n      <td>4674C_6_pressure_value</td>\n      <td>item0096</td>\n      <td>2018-02-19T07:15:01.061Z</td>\n      <td>950.51</td>\n      <td>4674C</td>\n      <td>18.50</td>\n      <td>455.0</td>\n      <td>16.0</td>\n      <td>NaN</td>\n      <td>950.51</td>\n      <td>free</td>\n    </tr>\n    <tr>\n      <th>2018-02-19 07:15:01.460</th>\n      <td>4674C_3_humidity_value</td>\n      <td>item0094</td>\n      <td>2018-02-19T07:15:01.460Z</td>\n      <td>16</td>\n      <td>4674C</td>\n      <td>18.50</td>\n      <td>455.0</td>\n      <td>16.0</td>\n      <td>NaN</td>\n      <td>950.51</td>\n      <td>free</td>\n    </tr>\n    <tr>\n      <th>2018-02-19 07:15:01.574</th>\n      <td>4674C_3_temperature_value</td>\n      <td>item0066</td>\n      <td>2018-02-19T07:15:01.574Z</td>\n      <td>18.58</td>\n      <td>4674C</td>\n      <td>18.58</td>\n      <td>455.0</td>\n      <td>16.0</td>\n      <td>NaN</td>\n      <td>950.51</td>\n      <td>free</td>\n    </tr>\n  </tbody>\n</table>\n</div>", 
                        "text/plain": "                                            itemname sensorname  \\\ntime                                                              \n2018-02-19 07:05:05.008    4674C_3_temperature_value   item0066   \n2018-02-19 07:10:00.118  4674C_4_carbonDioxide_value   item0095   \n2018-02-19 07:15:01.061       4674C_6_pressure_value   item0096   \n2018-02-19 07:15:01.460       4674C_3_humidity_value   item0094   \n2018-02-19 07:15:01.574    4674C_3_temperature_value   item0066   \n\n                                             time   value     id  temperature  \\\ntime                                                                            \n2018-02-19 07:05:05.008  2018-02-19T07:05:05.008Z    18.5  4674C        18.50   \n2018-02-19 07:10:00.118  2018-02-19T07:10:00.118Z     455  4674C        18.50   \n2018-02-19 07:15:01.061  2018-02-19T07:15:01.061Z  950.51  4674C        18.50   \n2018-02-19 07:15:01.460  2018-02-19T07:15:01.460Z      16  4674C        18.50   \n2018-02-19 07:15:01.574  2018-02-19T07:15:01.574Z   18.58  4674C        18.58   \n\n                         carbonDioxide  humidity  illuminance  pressure  \\\ntime                                                                      \n2018-02-19 07:05:05.008          455.0      16.0          NaN    950.51   \n2018-02-19 07:10:00.118          455.0      16.0          NaN    950.51   \n2018-02-19 07:15:01.061          455.0      16.0          NaN    950.51   \n2018-02-19 07:15:01.460          455.0      16.0          NaN    950.51   \n2018-02-19 07:15:01.574          455.0      16.0          NaN    950.51   \n\n                        Occupancy  \ntime                               \n2018-02-19 07:05:05.008      free  \n2018-02-19 07:10:00.118      free  \n2018-02-19 07:15:01.061      free  \n2018-02-19 07:15:01.460      free  \n2018-02-19 07:15:01.574      free  "
                    }, 
                    "output_type": "execute_result"
                }
            ], 
            "source": "df_shinano.head()"
        }, 
        {
            "execution_count": 19, 
            "cell_type": "code", 
            "metadata": {}, 
            "outputs": [], 
            "source": "df_shinano.drop(['illuminance'], axis=1, inplace=True)"
        }, 
        {
            "execution_count": 20, 
            "cell_type": "code", 
            "metadata": {}, 
            "outputs": [
                {
                    "execution_count": 20, 
                    "metadata": {}, 
                    "data": {
                        "text/html": "<div>\n<style scoped>\n    .dataframe tbody tr th:only-of-type {\n        vertical-align: middle;\n    }\n\n    .dataframe tbody tr th {\n        vertical-align: top;\n    }\n\n    .dataframe thead th {\n        text-align: right;\n    }\n</style>\n<table border=\"1\" class=\"dataframe\">\n  <thead>\n    <tr style=\"text-align: right;\">\n      <th></th>\n      <th>temperature</th>\n      <th>carbonDioxide</th>\n      <th>humidity</th>\n      <th>pressure</th>\n    </tr>\n  </thead>\n  <tbody>\n    <tr>\n      <th>count</th>\n      <td>22744.000000</td>\n      <td>22744.000000</td>\n      <td>22744.000000</td>\n      <td>22744.000000</td>\n    </tr>\n    <tr>\n      <th>mean</th>\n      <td>21.716864</td>\n      <td>617.600114</td>\n      <td>17.815732</td>\n      <td>941.909597</td>\n    </tr>\n    <tr>\n      <th>std</th>\n      <td>2.472216</td>\n      <td>232.130746</td>\n      <td>3.968186</td>\n      <td>8.905109</td>\n    </tr>\n    <tr>\n      <th>min</th>\n      <td>15.210000</td>\n      <td>398.000000</td>\n      <td>7.000000</td>\n      <td>922.980000</td>\n    </tr>\n    <tr>\n      <th>25%</th>\n      <td>20.280000</td>\n      <td>431.000000</td>\n      <td>15.000000</td>\n      <td>934.630000</td>\n    </tr>\n    <tr>\n      <th>50%</th>\n      <td>21.720000</td>\n      <td>558.000000</td>\n      <td>18.000000</td>\n      <td>942.615000</td>\n    </tr>\n    <tr>\n      <th>75%</th>\n      <td>22.810000</td>\n      <td>706.000000</td>\n      <td>20.000000</td>\n      <td>948.130000</td>\n    </tr>\n    <tr>\n      <th>max</th>\n      <td>32.780000</td>\n      <td>2215.000000</td>\n      <td>31.000000</td>\n      <td>962.590000</td>\n    </tr>\n  </tbody>\n</table>\n</div>", 
                        "text/plain": "        temperature  carbonDioxide      humidity      pressure\ncount  22744.000000   22744.000000  22744.000000  22744.000000\nmean      21.716864     617.600114     17.815732    941.909597\nstd        2.472216     232.130746      3.968186      8.905109\nmin       15.210000     398.000000      7.000000    922.980000\n25%       20.280000     431.000000     15.000000    934.630000\n50%       21.720000     558.000000     18.000000    942.615000\n75%       22.810000     706.000000     20.000000    948.130000\nmax       32.780000    2215.000000     31.000000    962.590000"
                    }, 
                    "output_type": "execute_result"
                }
            ], 
            "source": "df_shinano.describe()"
        }, 
        {
            "execution_count": 21, 
            "cell_type": "code", 
            "metadata": {}, 
            "outputs": [
                {
                    "execution_count": 21, 
                    "metadata": {}, 
                    "data": {
                        "text/plain": "array(['free', 'occupied'], dtype=object)"
                    }, 
                    "output_type": "execute_result"
                }
            ], 
            "source": "df_shinano.Occupancy.unique()"
        }, 
        {
            "execution_count": 22, 
            "cell_type": "code", 
            "metadata": {}, 
            "outputs": [
                {
                    "execution_count": 22, 
                    "metadata": {}, 
                    "data": {
                        "text/plain": "Occupancy\nfree        16948\noccupied     5796\nName: time, dtype: int64"
                    }, 
                    "output_type": "execute_result"
                }
            ], 
            "source": "df_shinano.groupby('Occupancy')['time'].nunique()"
        }, 
        {
            "source": "### Plot Sensor Values depending on Occupancy State", 
            "cell_type": "markdown", 
            "metadata": {}
        }, 
        {
            "execution_count": 23, 
            "cell_type": "code", 
            "metadata": {}, 
            "outputs": [], 
            "source": "import matplotlib.pyplot as plt"
        }, 
        {
            "execution_count": 24, 
            "cell_type": "code", 
            "metadata": {}, 
            "outputs": [
                {
                    "execution_count": 24, 
                    "metadata": {}, 
                    "data": {
                        "text/plain": "<matplotlib.axes._subplots.AxesSubplot at 0x2b63cba1ab00>"
                    }, 
                    "output_type": "execute_result"
                }, 
                {
                    "output_type": "stream", 
                    "name": "stderr", 
                    "text": "/opt/conda/envs/DSX-Python35/lib/python3.5/site-packages/matplotlib/font_manager.py:1316: UserWarning: findfont: Font family ['serif'] not found. Falling back to DejaVu Sans\n  (prop.get_family(), self.defaultFamily[fontext]))\n"
                }, 
                {
                    "output_type": "display_data", 
                    "data": {
                        "image/png": "[encoded data removed]", 
                        "text/plain": "<matplotlib.figure.Figure at 0x2b63cba77f28>"
                    }, 
                    "metadata": {}
                }
            ], 
            "source": "df_shinano.temperature.plot()"
        }, 
        {
            "source": "### Build Simple Prediction Model", 
            "cell_type": "markdown", 
            "metadata": {}
        }, 
        {
            "execution_count": 25, 
            "cell_type": "code", 
            "metadata": {}, 
            "outputs": [], 
            "source": "from sklearn.model_selection import train_test_split"
        }, 
        {
            "execution_count": 26, 
            "cell_type": "code", 
            "metadata": {}, 
            "outputs": [], 
            "source": "df_shinano_model = df_shinano.copy()"
        }, 
        {
            "execution_count": 27, 
            "cell_type": "code", 
            "metadata": {}, 
            "outputs": [], 
            "source": "df_shinano_model.loc[df_shinano_model.Occupancy == 'free', 'Occupancy'] = 0\ndf_shinano_model.loc[df_shinano_model.Occupancy == 'occupied', 'Occupancy'] = 1"
        }, 
        {
            "execution_count": 28, 
            "cell_type": "code", 
            "metadata": {}, 
            "outputs": [
                {
                    "execution_count": 28, 
                    "metadata": {}, 
                    "data": {
                        "text/plain": "array([0, 0, 0, ..., 0, 0, 0])"
                    }, 
                    "output_type": "execute_result"
                }
            ], 
            "source": "y = df_shinano_model['Occupancy'].values\ny"
        }, 
        {
            "execution_count": 29, 
            "cell_type": "code", 
            "metadata": {}, 
            "outputs": [
                {
                    "execution_count": 29, 
                    "metadata": {}, 
                    "data": {
                        "text/plain": "array([[  18.5 ,  455.  ,   16.  ,  950.51],\n       [  18.5 ,  455.  ,   16.  ,  950.51],\n       [  18.5 ,  455.  ,   16.  ,  950.51],\n       ..., \n       [  22.22,  815.  ,   21.  ,  949.91],\n       [  22.39,  815.  ,   21.  ,  949.91],\n       [  22.39,  812.  ,   21.  ,  949.91]])"
                    }, 
                    "output_type": "execute_result"
                }
            ], 
            "source": "X = df_shinano_model.loc[:, ['temperature', 'carbonDioxide', 'humidity', 'pressure']].values\nX"
        }, 
        {
            "execution_count": 30, 
            "cell_type": "code", 
            "metadata": {}, 
            "outputs": [], 
            "source": "X_train, X_test, y_train, y_test = train_test_split(X, y, test_size=0.2, random_state=42)"
        }, 
        {
            "execution_count": 31, 
            "cell_type": "code", 
            "metadata": {}, 
            "outputs": [], 
            "source": "import numpy as np\nfrom sklearn.ensemble import RandomForestClassifier\nfrom sklearn.metrics import classification_report\nfrom sklearn.model_selection import learning_curve"
        }, 
        {
            "execution_count": 32, 
            "cell_type": "code", 
            "metadata": {}, 
            "outputs": [], 
            "source": "def plot_learning_curve(estimator, title, X, y, ylim=None, cv=None,\n                        n_jobs=1, train_sizes=np.linspace(.1, 1.0, 5)):\n    plt.figure()\n    plt.title(title)\n    if ylim is not None:\n        plt.ylim(*ylim)\n    plt.xlabel(\"Training examples\")\n    plt.ylabel(\"Score\")\n    train_sizes, train_scores, test_scores = learning_curve(\n        estimator, X, y, cv=cv, n_jobs=n_jobs, train_sizes=train_sizes)\n    train_scores_mean = np.mean(train_scores, axis=1)\n    train_scores_std = np.std(train_scores, axis=1)\n    test_scores_mean = np.mean(test_scores, axis=1)\n    test_scores_std = np.std(test_scores, axis=1)\n    plt.grid()\n\n    plt.fill_between(train_sizes, train_scores_mean - train_scores_std,\n                     train_scores_mean + train_scores_std, alpha=0.1,\n                     color=\"r\")\n    plt.fill_between(train_sizes, test_scores_mean - test_scores_std,\n                     test_scores_mean + test_scores_std, alpha=0.1, color=\"g\")\n    plt.plot(train_sizes, train_scores_mean, 'o-', color=\"r\",\n             label=\"Training score\")\n    plt.plot(train_sizes, test_scores_mean, 'o-', color=\"g\",\n             label=\"Cross-validation score\")\n\n    plt.legend(loc=\"best\")\n    return plt"
        }, 
        {
            "execution_count": 46, 
            "cell_type": "code", 
            "metadata": {}, 
            "outputs": [], 
            "source": "clf = RandomForestClassifier(n_estimators=10)"
        }, 
        {
            "execution_count": 47, 
            "cell_type": "code", 
            "metadata": {}, 
            "outputs": [
                {
                    "execution_count": 47, 
                    "metadata": {}, 
                    "data": {
                        "text/plain": "RandomForestClassifier(bootstrap=True, class_weight=None, criterion='gini',\n            max_depth=None, max_features='auto', max_leaf_nodes=None,\n            min_impurity_decrease=0.0, min_impurity_split=None,\n            min_samples_leaf=1, min_samples_split=2,\n            min_weight_fraction_leaf=0.0, n_estimators=10, n_jobs=1,\n            oob_score=False, random_state=None, verbose=0,\n            warm_start=False)"
                    }, 
                    "output_type": "execute_result"
                }
            ], 
            "source": "clf.fit(X_train, y_train)"
        }, 
        {
            "execution_count": 48, 
            "cell_type": "code", 
            "metadata": {}, 
            "outputs": [
                {
                    "execution_count": 48, 
                    "metadata": {}, 
                    "data": {
                        "text/plain": "0.92921521213453506"
                    }, 
                    "output_type": "execute_result"
                }
            ], 
            "source": "clf.score(X_test, y_test)"
        }, 
        {
            "execution_count": 49, 
            "cell_type": "code", 
            "metadata": {}, 
            "outputs": [], 
            "source": "predictions = clf.predict(X_test)"
        }, 
        {
            "execution_count": 50, 
            "cell_type": "code", 
            "metadata": {}, 
            "outputs": [
                {
                    "output_type": "stream", 
                    "name": "stdout", 
                    "text": "             precision    recall  f1-score   support\n\n          0       0.95      0.95      0.95      3377\n          1       0.86      0.86      0.86      1172\n\navg / total       0.93      0.93      0.93      4549\n\n"
                }
            ], 
            "source": "print(classification_report(y_test, predictions))"
        }, 
        {
            "execution_count": 51, 
            "cell_type": "code", 
            "metadata": {}, 
            "outputs": [
                {
                    "output_type": "stream", 
                    "name": "stderr", 
                    "text": "/opt/conda/envs/DSX-Python35/lib/python3.5/site-packages/matplotlib/font_manager.py:1316: UserWarning: findfont: Font family ['serif'] not found. Falling back to DejaVu Sans\n  (prop.get_family(), self.defaultFamily[fontext]))\n"
                }, 
                {
                    "output_type": "display_data", 
                    "data": {
                        "image/png": "[encoded data removed]", 
                        "text/plain": "<matplotlib.figure.Figure at 0x2b63cb6b5ef0>"
                    }, 
                    "metadata": {}
                }
            ], 
            "source": "title = 'Learning Curves (Random Forest)'\nestimator = clf\nplot_learning_curve(estimator, title, X_train, y_train)\nplt.show()"
        }, 
        {
            "execution_count": null, 
            "cell_type": "code", 
            "metadata": {}, 
            "outputs": [], 
            "source": ""
        }
    ], 
    "metadata": {
        "kernelspec": {
            "display_name": "Python 3.5", 
            "name": "python3", 
            "language": "python"
        }, 
        "language_info": {
            "mimetype": "text/x-python", 
            "nbconvert_exporter": "python", 
            "version": "3.5.5", 
            "name": "python", 
            "file_extension": ".py", 
            "pygments_lexer": "ipython3", 
            "codemirror_mode": {
                "version": 3, 
                "name": "ipython"
            }
        }
    }, 
    "nbformat": 4
}